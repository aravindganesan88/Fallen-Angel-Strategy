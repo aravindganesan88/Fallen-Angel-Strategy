{
 "cells": [
  {
   "cell_type": "code",
   "execution_count": 2,
   "metadata": {},
   "outputs": [],
   "source": [
    "import time\n",
    "import pandas as pd\n",
    "import numpy as np\n",
    "import datetime as datetime\n",
    "import math\n",
    "import matplotlib.pyplot as plt\n",
    "import matplotlib.dates as mdates\n",
    "from scipy.stats import skew\n",
    "from scipy.stats import kurtosis\n",
    "%matplotlib inline"
   ]
  },
  {
   "cell_type": "markdown",
   "metadata": {},
   "source": [
    "# User Inputs"
   ]
  },
  {
   "cell_type": "code",
   "execution_count": 3,
   "metadata": {},
   "outputs": [],
   "source": [
    "# In-sample or Out-sample mode\n",
    "mode = 'In'\n",
    "\n",
    "# No. of days that the short position will be held\n",
    "nd = 5 \n",
    "\n",
    "# Amount (in USD) of short position in a single bond\n",
    "amnt = 10**6\n",
    "\n",
    "# Initial value of the portfolio (in USD)\n",
    "inival = 0.5*(10**6)\n",
    "\n",
    "# Risk free rate\n",
    "risk_free_rate = 0.02\n",
    "\n",
    "# Basic Implementation('BASIC') or Extension('EXT')\n",
    "type = 'EXT'\n",
    "\n",
    "# Borrowing Cost\n",
    "cost = 0.0/365\n",
    "\n",
    "# Importing the transaction dataframe\n",
    "trxdata = pd.DataFrame(pd.read_csv(\"fa_input1.csv\"))\n",
    "trxdata[\"Date\"] = pd.to_datetime(trxdata[\"Date\"])\n",
    "\n",
    "# Importing the price matrix of bonds\n",
    "prmat = pd.DataFrame(pd.read_csv(\"fa_input2.csv\"))\n",
    "prmat[\"Date\"] = pd.to_datetime(prmat[\"Date\"])\n",
    "\n",
    "# Importing the price matrix of the hedge\n",
    "hprmat = pd.DataFrame(pd.read_csv(\"fa_input3.csv\"))\n",
    "hprmat[\"Date\"] = pd.to_datetime(hprmat[\"Date\"])\n",
    "\n",
    "# Other Dataframes\n",
    "trxmat = pd.DataFrame(index=prmat.index, columns=prmat.columns)\n",
    "trxmat.Date = prmat.Date\n",
    "\n",
    "portchanges = pd.DataFrame(index=prmat.index, columns=['Date', 'Changes'])\n",
    "portchanges.Date = prmat.Date\n",
    "\n",
    "intport = trxmat.copy()\n",
    "hportchanges = portchanges.copy()\n",
    "hquantmat = trxmat.copy()\n",
    "trxmat_temp = trxmat.copy()\n",
    "\n",
    "\n",
    "# Setting dates for in-sample and out-sample testing\n",
    "if mode == 'In':\n",
    "    trxdata = trxdata.loc[trxdata['Date'] < pd.to_datetime('2017-01-01')]\n",
    "    trxmat = trxmat.loc[trxmat['Date'] < pd.to_datetime('2017-01-01')]\n",
    "    prmat = prmat.loc[prmat['Date'] < pd.to_datetime('2017-01-01')]\n",
    "    portchanges = portchanges.loc[portchanges['Date'] < pd.to_datetime('2017-01-01')]\n",
    "    intport = intport.loc[intport['Date'] < pd.to_datetime('2017-01-01')]\n",
    "    hportchanges = hportchanges.loc[hportchanges['Date'] < pd.to_datetime('2017-01-01')]\n",
    "    hquantmat = hquantmat.loc[hquantmat['Date'] < pd.to_datetime('2017-01-01')]\n",
    "    trxmat_temp = trxmat_temp.loc[trxmat_temp['Date'] < pd.to_datetime('2017-01-01')]\n",
    "    hprmat = hprmat.loc[hprmat['Date'] < pd.to_datetime('2017-01-01')]\n",
    "elif mode == 'Out':\n",
    "    trxdata = trxdata.loc[trxdata['Date'] >= pd.to_datetime('2017-01-01')]\n",
    "    trxmat = trxmat.loc[trxmat['Date'] >= pd.to_datetime('2017-01-01')]\n",
    "    prmat = prmat.loc[prmat['Date'] >= pd.to_datetime('2017-01-01')]\n",
    "    portchanges = portchanges.loc[portchanges['Date'] >= pd.to_datetime('2017-01-01')]\n",
    "    intport = intport.loc[intport['Date'] >= pd.to_datetime('2017-01-01')]\n",
    "    hportchanges = hportchanges.loc[hportchanges['Date'] >= pd.to_datetime('2017-01-01')]\n",
    "    hquantmat = hquantmat.loc[hquantmat['Date'] >= pd.to_datetime('2017-01-01')]\n",
    "    trxmat_temp = trxmat_temp.loc[trxmat_temp['Date'] >= pd.to_datetime('2017-01-01')]\n",
    "    hprmat = hprmat.loc[hprmat['Date'] >= pd.to_datetime('2017-01-01')]"
   ]
  },
  {
   "cell_type": "markdown",
   "metadata": {},
   "source": [
    "# Functions"
   ]
  },
  {
   "cell_type": "code",
   "execution_count": 4,
   "metadata": {},
   "outputs": [],
   "source": [
    "# Computing quantity of bond and hedging instruments to be traded \n",
    "def trxdatafunc():\n",
    "    trxdata[\"Quantity\"]=(amnt/trxdata[\"Entry Price\"])\n",
    "    trxdata[\"H Quantity\"]=(trxdata[\"Entry Price\"]*trxdata[\"Duration\"]*trxdata[\"Quantity\"])/(trxdata[\"H Duration\"]*trxdata[\"H Entry Price\"])\n",
    "    trxdata[\"Exit Date\"] = trxdata[\"Date\"] + datetime.timedelta(days=nd)"
   ]
  },
  {
   "cell_type": "code",
   "execution_count": 5,
   "metadata": {},
   "outputs": [],
   "source": [
    "# Computing the transaction matrix \"trxmat\" - Such that it has '1' on all trading days for the appropriate bond. Trading days to include Entry Date and Exit Date in dataframe \"td\"\n",
    "def trxmatfunc():    \n",
    "    for col in trxmat.columns:\n",
    "        if (col!='Date'):\n",
    "            trxmat[col].values[:] = 0\n",
    "            trxmat_temp[col].values[:] = 0\n",
    "    \n",
    "    for index,val in trxdata.iterrows():\n",
    "        temp_entdate = trxdata.loc[index]['Date']\n",
    "        temp_extdate = trxdata.loc[index]['Exit Date']\n",
    "        temp_CUSIP = trxdata.loc[index]['CUSIP']\n",
    "        \n",
    "        for i in range (0,nd+1):\n",
    "            single_date = temp_entdate + datetime.timedelta(days=(i))\n",
    "            myindex = trxmat[trxmat['Date']==single_date].index\n",
    "            trxmat.at[myindex,temp_CUSIP] = -1\n",
    "            \n",
    "        for i in range (1,nd+1):\n",
    "            single_date = temp_entdate + datetime.timedelta(days=(i))\n",
    "            myindex = trxmat_temp[trxmat_temp['Date']==single_date].index\n",
    "            trxmat_temp.at[myindex,temp_CUSIP] = 1"
   ]
  },
  {
   "cell_type": "code",
   "execution_count": 6,
   "metadata": {},
   "outputs": [],
   "source": [
    "# Compute the Changes to the short portfolio\n",
    "def portchangesfunc(df1, df2, df4, df5, df6):\n",
    "\n",
    "    df1.set_index('Date', inplace = True)\n",
    "    df2.set_index('Date', inplace = True)\n",
    "    df4.set_index('Date', inplace = True)\n",
    "    df5.set_index('Date', inplace = True)\n",
    "    \n",
    "    intport_temp = pd.DataFrame(df1.values * df2.values * df4.values, index = df1.index)\n",
    "    intport_temp = intport_temp.fillna(0)\n",
    "    \n",
    "    intport_temp = intport_temp.diff()\n",
    "    \n",
    "    intport = pd.DataFrame(intport_temp.values * df5.values, index = intport_temp.index)\n",
    "    \n",
    "    intport['Changes'] = intport.sum(axis=1)\n",
    "    intport = intport.reset_index(drop=True)\n",
    "    intport.index = df6.index\n",
    "    \n",
    "    df6['Changes'] = intport['Changes']\n",
    "    return df6"
   ]
  },
  {
   "cell_type": "code",
   "execution_count": 7,
   "metadata": {},
   "outputs": [],
   "source": [
    "# Compute the borrowing cost\n",
    "def borrcostfunc(df1, df2, df4):\n",
    "    \n",
    "    intport_temp = pd.DataFrame(df1.values * df2.values * df4.values, index = df1.index)\n",
    "    intport_temp = intport_temp.fillna(0)\n",
    "    borrcost_temp = intport_temp * cost\n",
    "    \n",
    "    borrcost = pd.DataFrame(index = borrcost_temp.index)\n",
    "    borrcost['Cost'] = borrcost_temp.sum(axis = 1)\n",
    "    borrcost = borrcost.reset_index(drop=True)\n",
    "    borrcost.to_csv(\"output_bor.csv\")\n",
    "    return borrcost"
   ]
  },
  {
   "cell_type": "code",
   "execution_count": 8,
   "metadata": {},
   "outputs": [],
   "source": [
    "# Compute the changes to the hedge portfolio\n",
    "def hedgefunc(df1, df2, df4, df5, df6):\n",
    "    \n",
    "    df1.set_index('Date', inplace = True)\n",
    "    df2.set_index('Date', inplace = True)\n",
    "    df4.set_index('Date', inplace = True)\n",
    "    \n",
    "    hintport_temp = pd.DataFrame(df1.values * df2.values * df4.values, index = df1.index)\n",
    "    hintport_temp = hintport_temp.fillna(0)\n",
    "    \n",
    "    hintport_temp = hintport_temp.diff()\n",
    "    hintport_temp = hintport_temp * -1\n",
    "    \n",
    "    df5.set_index('Date', inplace = True)\n",
    "    hintport = pd.DataFrame(hintport_temp.values * df5.values, index = hintport_temp.index)\n",
    "    \n",
    "    hintport['Changes'] = hintport.sum(axis=1)\n",
    "    hintport = hintport.reset_index(drop=True)\n",
    "    hintport.index = df6.index\n",
    "    df6['Changes'] = hintport['Changes']\n",
    "    return df6"
   ]
  },
  {
   "cell_type": "code",
   "execution_count": 9,
   "metadata": {},
   "outputs": [],
   "source": [
    "# Function for calculating the returns\n",
    "def portfunc(df):\n",
    "    df_pf = df\n",
    "    values = [inival]\n",
    "    value = inival\n",
    "    for i in range(len(df_pf)):\n",
    "        value = value + df_pf['Changes'].iloc[i]\n",
    "        values.append(value)\n",
    "        \n",
    "    df_pf['Opening Value'] = values[:-1]\n",
    "    df_pf['Closing Value'] = values[1:]\n",
    "    df_pf['Daily Return'] = df_pf['Changes']/df_pf['Opening Value']\n",
    "    \n",
    "    cum_return = [1]\n",
    "    cum_rt = 1\n",
    "    for i in range(len(df_pf)):\n",
    "        cum_rt = cum_rt*(1+df_pf['Daily Return'].iloc[i])\n",
    "        cum_return.append(cum_rt)\n",
    "    df_pf['Cummulative Return'] = cum_return[1:]\n",
    "    \n",
    "    df_pf = df_pf[['Date','Opening Value','Changes','Closing Value','Daily Return','Cummulative Return']]\n",
    "    df_pf.to_csv(\"ext nb.csv\")\n",
    "    return df_pf"
   ]
  },
  {
   "cell_type": "code",
   "execution_count": 14,
   "metadata": {},
   "outputs": [],
   "source": [
    "# Function for calculating maximum drawdown\n",
    "def maxdrawdown(df):\n",
    "    df = df.reset_index(drop=True)\n",
    "    cr = df['Cummulative Return']\n",
    "    i = np.argmax((np.maximum.accumulate(cr) - cr)/np.maximum.accumulate(cr)) # end of the period\n",
    "    j = np.argmax(cr[:i]) # start of period\n",
    "    k = df.iloc[i:]['Cummulative Return'].max()\n",
    "        \n",
    "    st = df['Date'].iloc[j]\n",
    "    ed = df['Date'].iloc[i]\n",
    "    mdd = 1-cr[i]/cr[j]\n",
    "    print('Start Date:',st)\n",
    "    print('End Date:',ed)\n",
    "    print('Maximum Drawdown:', \"{:.2%}\".format(mdd))\n",
    "    if k > cr[j]:\n",
    "        rcv = df.iloc[i:][df.iloc[i:]['Cummulative Return']>cr[j]]['Date'].iloc[0]\n",
    "        print('Recovery period (No. of Days) = ', abs(rcv-ed).days)\n",
    "    else:\n",
    "        print('Not recovered yet')\n",
    "    return cr"
   ]
  },
  {
   "cell_type": "markdown",
   "metadata": {},
   "source": [
    "# Main Program"
   ]
  },
  {
   "cell_type": "code",
   "execution_count": 11,
   "metadata": {},
   "outputs": [],
   "source": [
    "# Function \"trxdatafunc\" will compute the quantity of bond and hedging instruments to be traded\n",
    "trxdatafunc()\n",
    "\n",
    "# Function \"trxmatfunc\" will compute the transaction matrix\n",
    "trxmatfunc()\n",
    "\n",
    "# Function \"portchangesfunc\" will compute the changes to the portfolio\n",
    "\n",
    "trxmat_copy = trxmat.copy()\n",
    "trxmat_temp_copy = trxmat_temp.copy()\n",
    "quantmat = hquantmat.copy()\n",
    "\n",
    "for column in quantmat.columns:\n",
    "    if (column!='Date'):\n",
    "        quantity = trxdata[trxdata['CUSIP']==column]['Quantity'].to_string(index=False)\n",
    "        if (quantity == 'Series([], )'):\n",
    "            quantity = 0\n",
    "        else:\n",
    "            quantity = float(quantity)\n",
    "        quantmat.at[:,column] = quantity\n",
    "\n",
    "portchanges = portchangesfunc(trxmat_copy, prmat, quantmat, trxmat_temp_copy, portchanges)\n",
    "\n",
    "# Function for calculating borrowing cost\n",
    "borr = borrcostfunc(trxmat_copy, prmat, quantmat)\n",
    "\n",
    "# Function to calculate returns from hedging instrument\n",
    "if (type=='EXT'):\n",
    "    for column in hquantmat.columns:\n",
    "        if (column!='Date'):\n",
    "            hquantity = trxdata[trxdata['CUSIP']==column]['H Quantity'].to_string(index=False)\n",
    "            if (hquantity == 'Series([], )'):\n",
    "                hquantity = 0\n",
    "            else:\n",
    "                hquantity = float(hquantity)\n",
    "            hquantmat.at[:,column] = hquantity\n",
    "    hedge = hedgefunc(trxmat, hprmat, hquantmat, trxmat_temp, hportchanges)\n",
    "    borr.index = hedge.index\n",
    "    portchanges['Changes'] = hedge['Changes'] + portchanges['Changes'] + borr['Cost']\n",
    "\n",
    "# Function \"portfunc\" will compute the portfolio value based on the changes to the portfolio and the starting value of the portfolio defined earlier\n",
    "port = portfunc(portchanges)"
   ]
  },
  {
   "cell_type": "markdown",
   "metadata": {},
   "source": [
    "# Performance Analysis"
   ]
  },
  {
   "cell_type": "code",
   "execution_count": 15,
   "metadata": {},
   "outputs": [
    {
     "name": "stdout",
     "output_type": "stream",
     "text": [
      "------------------------PnL Graph---------------------------\n"
     ]
    },
    {
     "data": {
      "image/png": "[encoded data removed]",
      "text/plain": [
       "<Figure size 432x288 with 1 Axes>"
      ]
     },
     "metadata": {},
     "output_type": "display_data"
    },
    {
     "name": "stdout",
     "output_type": "stream",
     "text": [
      "\n",
      "\n",
      "Cumulative Return =  69.44%\n",
      "\n",
      "\n",
      "-----------------Daily Returns Statistics--------------------\n",
      "\n",
      "\n"
     ]
    },
    {
     "data": {
      "image/png": "[encoded data removed]",
      "text/plain": [
       "<Figure size 432x288 with 1 Axes>"
      ]
     },
     "metadata": {},
     "output_type": "display_data"
    },
    {
     "name": "stdout",
     "output_type": "stream",
     "text": [
      "Average Daily Returns =  0.53%\n",
      "Standard Deviation of Daily Returns =  0.67%\n",
      "Skewness of Daily Returns =  8.99\n",
      "Kurtosis of Daily Returns =  211.03\n",
      "\n",
      "\n",
      "-------------------Annualized Performance---------------------\n",
      "\n",
      "\n",
      "No. of years =  7.0\n",
      "Annualized Return =  7.82%\n",
      "Sharpe Ratio =  0.78\n",
      "\n",
      "\n",
      "-----------------Maximum Drawdown and Recovery-------------------\n",
      "\n",
      "\n",
      "Start Date: 2015-07-23 00:00:00\n",
      "End Date: 2016-03-21 00:00:00\n",
      "Maximum Drawdown: 22.91%\n",
      "Not recovered yet\n"
     ]
    },
    {
     "name": "stderr",
     "output_type": "stream",
     "text": [
      "C:\\Users\\Public\\Anaconda\\lib\\site-packages\\numpy\\core\\fromnumeric.py:52: FutureWarning: 'argmax' is deprecated, use 'idxmax' instead. The behavior of 'argmax'\n",
      "will be corrected to return the positional maximum in the future.\n",
      "Use 'series.values.argmax' to get the position of the maximum now.\n",
      "  return getattr(obj, method)(*args, **kwds)\n"
     ]
    }
   ],
   "source": [
    "#Cummulative Return\n",
    "cum_returns = port['Cummulative Return']\n",
    "cum_return = cum_returns[port.index[-1]]\n",
    "dates = port['Date']\n",
    "print (\"------------------------PnL Graph---------------------------\")\n",
    "plt.plot(dates,(cum_returns-1)*100)\n",
    "plt.xlabel(\"Years\")\n",
    "plt.ylabel(\"Cumulative Returns [%]\")\n",
    "plt.title(\"Cumulative Return Graph\")\n",
    "plt.grid(axis='y', alpha=0.5)\n",
    "plt.show()\n",
    "print('\\n')\n",
    "print(\"Cumulative Return = \",\"{:.2%}\".format(cum_return-1))\n",
    "\n",
    "#print mean,std,shape\n",
    "print ('\\n')\n",
    "print('-----------------Daily Returns Statistics--------------------')\n",
    "print ('\\n')\n",
    "returns1 = port['Daily Return']\n",
    "zer = 0\n",
    "tot = 0\n",
    "drs = 0\n",
    "for index, row in port.iterrows():\n",
    "    tot = tot + 1\n",
    "    if (port.loc[index, 'Daily Return']==0):\n",
    "        zer = zer + 1\n",
    "mean = returns1.sum()/(tot-zer)\n",
    "x = (returns1[returns1!=0]*100).tolist()\n",
    "##print(x)\n",
    "plt.hist(x)\n",
    "plt.xlabel(\"Daily Returns in %\")\n",
    "plt.ylabel(\"Frequency\")\n",
    "#plt.axis([-10, 12, 0, 40])\n",
    "plt.grid(axis='y', alpha=0.5)\n",
    "plt.show()\n",
    "print('Average Daily Returns = ',\"{:.2%}\".format(mean))\n",
    "std = returns1.std()\n",
    "print('Standard Deviation of Daily Returns = ',\"{:.2%}\".format(std))\n",
    "skewness = skew(returns1)\n",
    "print('Skewness of Daily Returns = ',round(skewness,2))\n",
    "kurt = kurtosis(returns1)\n",
    "print('Kurtosis of Daily Returns = ',round(kurt,2))\n",
    "\n",
    "print ('\\n')\n",
    "print ('-------------------Annualized Performance---------------------')\n",
    "print ('\\n')\n",
    "tds = pd.Timedelta(dates.max()-dates.min())\n",
    "no_of_days = tds.days\n",
    "no_of_years =  float(no_of_days)/float(365)\n",
    "print('No. of years = ', round(no_of_years,1))\n",
    "\n",
    "\n",
    "#Annualized Return\n",
    "annualized_return = ((cum_return)**(1/float(no_of_years)))-1\n",
    "print(\"Annualized Return = \",\"{:.2%}\".format(annualized_return))\n",
    "\n",
    "#Sharpe Ratio\n",
    "drfr = ((1+risk_free_rate)**(1/365))-1\n",
    "sharpe_ratio = (mean-drfr)/(std)\n",
    "print(\"Sharpe Ratio = \",round(sharpe_ratio,2))\n",
    "\n",
    "print ('\\n')\n",
    "print ('-----------------Maximum Drawdown and Recovery-------------------')\n",
    "print ('\\n')\n",
    "\n",
    "cr = maxdrawdown(port)"
   ]
  },
  {
   "cell_type": "code",
   "execution_count": 1,
   "metadata": {},
   "outputs": [
    {
     "name": "stdout",
     "output_type": "stream",
     "text": [
      "C:\\Users\\Aravind Ganesan\\Documents\\PythonCSVFiles\n"
     ]
    }
   ],
   "source": [
    "%cd C:\\Users\\Aravind Ganesan\\Documents\\PythonCSVFiles"
   ]
  },
  {
   "cell_type": "code",
   "execution_count": 23,
   "metadata": {},
   "outputs": [
    {
     "ename": "AttributeError",
     "evalue": "'Series' object has no attribute 'type'",
     "output_type": "error",
     "traceback": [
      "\u001b[1;31m---------------------------------------------------------------------------\u001b[0m",
      "\u001b[1;31mAttributeError\u001b[0m                            Traceback (most recent call last)",
      "\u001b[1;32m<ipython-input-23-efb3b6717fe4>\u001b[0m in \u001b[0;36m<module>\u001b[1;34m()\u001b[0m\n\u001b[1;32m----> 1\u001b[1;33m \u001b[0mdates\u001b[0m\u001b[1;33m.\u001b[0m\u001b[0mtype\u001b[0m\u001b[1;33m(\u001b[0m\u001b[1;33m)\u001b[0m\u001b[1;33m\u001b[0m\u001b[0m\n\u001b[0m",
      "\u001b[1;32mC:\\Users\\Public\\Anaconda\\lib\\site-packages\\pandas\\core\\generic.py\u001b[0m in \u001b[0;36m__getattr__\u001b[1;34m(self, name)\u001b[0m\n\u001b[0;32m   4370\u001b[0m             \u001b[1;32mif\u001b[0m \u001b[0mself\u001b[0m\u001b[1;33m.\u001b[0m\u001b[0m_info_axis\u001b[0m\u001b[1;33m.\u001b[0m\u001b[0m_can_hold_identifiers_and_holds_name\u001b[0m\u001b[1;33m(\u001b[0m\u001b[0mname\u001b[0m\u001b[1;33m)\u001b[0m\u001b[1;33m:\u001b[0m\u001b[1;33m\u001b[0m\u001b[0m\n\u001b[0;32m   4371\u001b[0m                 \u001b[1;32mreturn\u001b[0m \u001b[0mself\u001b[0m\u001b[1;33m[\u001b[0m\u001b[0mname\u001b[0m\u001b[1;33m]\u001b[0m\u001b[1;33m\u001b[0m\u001b[0m\n\u001b[1;32m-> 4372\u001b[1;33m             \u001b[1;32mreturn\u001b[0m \u001b[0mobject\u001b[0m\u001b[1;33m.\u001b[0m\u001b[0m__getattribute__\u001b[0m\u001b[1;33m(\u001b[0m\u001b[0mself\u001b[0m\u001b[1;33m,\u001b[0m \u001b[0mname\u001b[0m\u001b[1;33m)\u001b[0m\u001b[1;33m\u001b[0m\u001b[0m\n\u001b[0m\u001b[0;32m   4373\u001b[0m \u001b[1;33m\u001b[0m\u001b[0m\n\u001b[0;32m   4374\u001b[0m     \u001b[1;32mdef\u001b[0m \u001b[0m__setattr__\u001b[0m\u001b[1;33m(\u001b[0m\u001b[0mself\u001b[0m\u001b[1;33m,\u001b[0m \u001b[0mname\u001b[0m\u001b[1;33m,\u001b[0m \u001b[0mvalue\u001b[0m\u001b[1;33m)\u001b[0m\u001b[1;33m:\u001b[0m\u001b[1;33m\u001b[0m\u001b[0m\n",
      "\u001b[1;31mAttributeError\u001b[0m: 'Series' object has no attribute 'type'"
     ]
    }
   ],
   "source": [
    "dates.type()"
   ]
  },
  {
   "cell_type": "code",
   "execution_count": 16,
   "metadata": {},
   "outputs": [
    {
     "data": {
      "text/plain": [
       "0       1.000000\n",
       "1       1.000000\n",
       "2       1.000000\n",
       "3       1.000000\n",
       "4       1.000000\n",
       "5       1.000000\n",
       "6       1.000000\n",
       "7       1.000000\n",
       "8       1.000000\n",
       "9       1.000000\n",
       "10      1.000000\n",
       "11      1.000000\n",
       "12      1.000000\n",
       "13      1.000000\n",
       "14      1.000000\n",
       "15      1.000000\n",
       "16      1.000000\n",
       "17      1.000000\n",
       "18      1.000000\n",
       "19      1.000000\n",
       "20      1.000000\n",
       "21      1.000000\n",
       "22      1.000000\n",
       "23      1.000000\n",
       "24      1.000000\n",
       "25      1.000000\n",
       "26      1.000000\n",
       "27      1.000000\n",
       "28      1.000000\n",
       "29      1.000000\n",
       "          ...   \n",
       "1726    1.611012\n",
       "1727    1.614336\n",
       "1728    1.612828\n",
       "1729    1.613343\n",
       "1730    1.613343\n",
       "1731    1.613343\n",
       "1732    1.613343\n",
       "1733    1.613343\n",
       "1734    1.613343\n",
       "1735    1.624947\n",
       "1736    1.617154\n",
       "1737    1.615631\n",
       "1738    1.621151\n",
       "1739    1.617622\n",
       "1740    1.658646\n",
       "1741    1.683776\n",
       "1742    1.667206\n",
       "1743    1.694382\n",
       "1744    1.694382\n",
       "1745    1.694382\n",
       "1746    1.694382\n",
       "1747    1.694382\n",
       "1748    1.694382\n",
       "1749    1.694382\n",
       "1750    1.694382\n",
       "1751    1.694382\n",
       "1752    1.694382\n",
       "1753    1.694382\n",
       "1754    1.694382\n",
       "1755    1.694382\n",
       "Name: Cummulative Return, Length: 1756, dtype: float64"
      ]
     },
     "execution_count": 16,
     "metadata": {},
     "output_type": "execute_result"
    }
   ],
   "source": [
    "cr"
   ]
  },
  {
   "cell_type": "code",
   "execution_count": null,
   "metadata": {},
   "outputs": [],
   "source": []
  }
 ],
 "metadata": {
  "kernelspec": {
   "display_name": "Python 3",
   "language": "python",
   "name": "python3"
  },
  "language_info": {
   "codemirror_mode": {
    "name": "ipython",
    "version": 3
   },
   "file_extension": ".py",
   "mimetype": "text/x-python",
   "name": "python",
   "nbconvert_exporter": "python",
   "pygments_lexer": "ipython3",
   "version": "3.6.5"
  }
 },
 "nbformat": 4,
 "nbformat_minor": 2
}
